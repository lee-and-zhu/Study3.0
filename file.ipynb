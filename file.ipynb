{
 "cells": [
  {
   "cell_type": "markdown",
   "source": [
    "文件：数据存放的容器\n",
    "文件的作用：持久性的存储数据内容\n",
    "文件名：如果是同级目录下, 不允许同名文件存在\n",
    "拓展名：一般不同的扩展名, 对应着不同的文件格式，不同的文件格式, 有着不同的存储约定, 方便程序处理\n",
    "文本文件\n",
    "\ttxt\n",
    "\tdoc\n",
    "\txls\n",
    "\t...\n",
    "二进制文件\n",
    "\t图片\n",
    "\t视频\n",
    "\t音乐\n",
    "\t...\n",
    "打开、读写、关闭\n",
    "r\n",
    "\t以只读方式打开文件\n",
    "\t\t这是默认模式\n",
    "\t文件的指针将会放在文件的开头\n",
    "\t注意:\n",
    "\t\t文件不存在, 会报错\n",
    "w\n",
    "\t以只写方式打开文件\n",
    "\t文件的指针将会放在文件的开头\n",
    "\t\t所以, 写入的新内容, 会覆盖旧的内容\n",
    "\t注意\n",
    "\t\t文件不存在, 会自动创建一个新文件\n",
    "a\n",
    "\t以追加方式(只写)打开文件\n",
    "\t文件的指针将会放在文件结尾\n",
    "\t\t所以, 写入的内容, 会新增到文件末尾\n",
    "\t注意\n",
    "\t\t文件不存在, 会自动创建一个新文件"
   ],
   "metadata": {
    "collapsed": false
   },
   "id": "bbcaffe80a177d38"
  },
  {
   "cell_type": "code",
   "outputs": [
    {
     "name": "stdout",
     "output_type": "stream",
     "text": [
      "12345666\n"
     ]
    }
   ],
   "source": [
    "#打开,相对路径，在一个文件夹里面的 \n",
    "f=open(\"lee.txt\",\"r\")\n",
    "content=f.read()\n",
    "print(content)\n",
    "# f.write(\"12345666\")\n",
    "f.close()\n",
    "\n",
    "\n",
    "\n",
    "f=open(\"lee.txt\",\"w\")\n",
    "f.write(\"12345666\")\n",
    "f.close()\n",
    "\n",
    "# f=open(\"lee.txt\",\"a\")\n",
    "# f.write(\"12345666\")\n",
    "# f.close()"
   ],
   "metadata": {
    "collapsed": true,
    "ExecuteTime": {
     "end_time": "2024-04-10T11:25:43.231129Z",
     "start_time": "2024-04-10T11:25:43.223119Z"
    }
   },
   "id": "initial_id",
   "execution_count": 24
  },
  {
   "cell_type": "code",
   "outputs": [],
   "source": [
    "#以二进制格式进行操作文件读写,在z、w、r的后面加个b\n",
    "\n",
    "file=open(\"lee.jpg\",\"rb\")\n",
    "content=file.read()\n",
    "print(content)\n",
    "file.close()\n",
    "\n",
    "file1=open(\"lee1.jpg\",\"wb\")\n",
    "file1.write(content)\n",
    "file1.close()\n",
    "\n",
    "file2=open(\"lee1.jpg\",\"rb\")\n",
    "content=file2.read()\n",
    "print(content)\n",
    "file2.close()"
   ],
   "metadata": {
    "collapsed": false
   },
   "id": "1be13ff513e1a9fc",
   "execution_count": null
  },
  {
   "cell_type": "code",
   "outputs": [],
   "source": [
    "#代表都是以 \"读写模式\" 进行打开    r+   rw+ rb+\n",
    "\t# 其他特性基本和 + 前面的模式一致\n",
    "\t# 但是关于部分操作, 有细节区别\n",
    "\n",
    "file=open(\"lee.jpg\",\"rb+\")\n",
    "content=file.read()\n",
    "print(content)\n",
    "file.close()"
   ],
   "metadata": {
    "collapsed": false
   },
   "id": "7f1b31413bf58a3a"
  },
  {
   "cell_type": "code",
   "outputs": [],
   "source": [
    "#读写 定位\n",
    "file=open(\"lee.txt\",\"r\")\n",
    "#f.seek(偏移量，[0,1,2]),0开头默认,1当前位置,2文件末尾\n",
    "#注意:文本文件的操作模式下(不带b),只能写0,如果想要写1or2, 必须在二进制文件操作模式下(带b)\n",
    "print(file.tell())#打印指针的位置\n",
    "file.seek(2)\n",
    "print(file.tell())\n",
    "content=file.read()\n",
    "print(content)\n",
    "print(file.tell())\n",
    "file.close()"
   ],
   "metadata": {
    "collapsed": false
   },
   "id": "4cc848a75cf82a0d",
   "execution_count": null
  },
  {
   "cell_type": "code",
   "outputs": [],
   "source": [
    "#读写\n",
    "# f.read(字节数)字节数默认是文件内容长度，下标会自动后移\n",
    "# f.readline([limit])读取一行数据，limit：限制的最大字节数\n",
    "# f.readlines()会自动的将文件按换行符进行处理，将处理好的每一行组成一个列表返回\n",
    "# for in可以直接遍历 f本身，也可以遍历行列表\n",
    "# 判定是否可读  .readable()\n",
    "f=open(\"lee.txt\",\"r\")\n",
    "content=f.read(44)\n",
    "content1=f.read(4)\n",
    "print(content1)\n",
    "print(content)\n",
    "f.close()\n",
    "\n",
    "\n",
    "f=open(\"lee.txt\",\"r\")\n",
    "content=f.readline()\n",
    "print(content)\n",
    "content=f.readline()\n",
    "print(content,end=\"\")\n",
    "f.close()\n",
    "\n",
    "f=open(\"lee.txt\",\"r\")\n",
    "content=f.readlines()\n",
    "print(content)\n",
    "f.close()\n",
    "#注意\n",
    "#一般文件特别大的时候, 可以使用readline方法,按行加载, 可节省内存,但相比于其他两个读取方法, 性能较低\n",
    "# 其他两个方法, 一次性读取文件所有内容,虽然占用内存,但处理性能比较高\n",
    "\n",
    "import collections\n",
    "f=open(\"lee.txt\",\"r\")\n",
    "collections.Iterator = collections.abc.Iterator  #python3.9后需要加这句话\n",
    "print(isinstance(f,collections.Iterator))\n",
    "for i in f:\n",
    "    print(i,end=\"\")\n",
    "f.close()\n",
    "\n",
    "f=open(\"lee.txt\",\"r\")\n",
    "f.readable()"
   ],
   "metadata": {
    "collapsed": false
   },
   "id": "7bb03b3b67ba2074",
   "execution_count": null
  },
  {
   "cell_type": "code",
   "outputs": [],
   "source": [
    "#写\n",
    "#写\n",
    "# f.write(\"内容\")返回值是写入的字节长度\n",
    "# 判定是否可写  .writeable()\n",
    "f=open(\"lee.txt\",\"a\")\n",
    "print(f.write(\"aaa\"))\n",
    "print(f.writable())\n",
    "f.close()"
   ],
   "metadata": {
    "collapsed": false
   },
   "id": "6469774afacb343",
   "execution_count": null
  },
  {
   "cell_type": "code",
   "outputs": [],
   "source": [
    "#f.close()关闭文件\n",
    "#f.flush()清空缓冲区内容到磁盘文件中"
   ],
   "metadata": {
    "collapsed": false
   },
   "id": "907352e4cc0f503f"
  },
  {
   "cell_type": "code",
   "outputs": [],
   "source": [
    "import os\n",
    "# 重命名\n",
    "# \tos.rename(‘old_name’, 'new_name')\n",
    "# 删除\n",
    "# \tos.remove('文件名')\n",
    "# 创建文件夹\n",
    "# \tos.mkdir(\"文件夹名称\")\n",
    "# 获取当前目录\n",
    "# \tos.getcwd()\n",
    "# 改变默认目录\n",
    "# \tos.chdir(\"目标目录\")\n",
    "# 获取目录列表\n",
    "# \tos.listdir(\"./\")\n",
    "os.rename(\"lee.txt\",\"lee1.txt\")\n",
    "os.rename(\"lee1.txt\",\"lee.txt\")\n",
    "# os.remove(\"lee.txt\")\n",
    "os.mkdir(\"lee1\")\n",
    "os.rmdir(\"lee1\")"
   ],
   "metadata": {
    "collapsed": false,
    "ExecuteTime": {
     "end_time": "2024-04-12T02:28:59.194555Z",
     "start_time": "2024-04-12T02:28:59.187083Z"
    }
   },
   "id": "76003503c59729d5",
   "execution_count": 9
  },
  {
   "cell_type": "markdown",
   "source": [
    "-----------------------------------------------------------------------------------------\n",
    "案例"
   ],
   "metadata": {
    "collapsed": false
   },
   "id": "44f58834d5ea93de"
  },
  {
   "cell_type": "code",
   "outputs": [],
   "source": [
    "import os\n",
    "os.chdir(\"files\")\n",
    "# 1. 只读模式, 打开要复制的文件\n",
    "# \t追加模式, 打开副本文件\n",
    "source_file = open(\"d.txt\", \"r\", encoding=\"utf-8\")\n",
    "dst_file = open(\"d_bat.txt\", \"a\", encoding=\"utf-8\")\n",
    "# 2. 从源文件中读取内容\n",
    "# \t写入到目标文件中\n",
    "# content = source_file.read()\n",
    "# dst_file.write(content)\n",
    "while True:\n",
    "    content = source_file.read(1024)\n",
    "    if len(content) == 0:\n",
    "        break\n",
    "    print(\"----\", content)\n",
    "    dst_file.write(content)\n",
    "# 3. 关闭源文件和目标文件\n",
    "source_file.close()\n",
    "dst_file.close() "
   ],
   "metadata": {
    "collapsed": false
   },
   "id": "65055afb403f8ed2"
  },
  {
   "cell_type": "code",
   "outputs": [],
   "source": [
    "#0, 获取所有的文件名称列表\n",
    "import os\n",
    "import shutil\n",
    "\n",
    "\n",
    "os.chdir(\"files\")\n",
    "file_list = os.listdir(\"./\")\n",
    "# print(file_list)\n",
    "\n",
    "# 1. 遍历所有的文件(名称)\n",
    "for file_name in file_list:\n",
    "    # print(file_name)\n",
    "    # 2. 分解文件的后缀名\n",
    "    # 2.1 获取最后一个.的索引位置 xx.oo.txt\n",
    "    index = file_name.rfind(\".\")\n",
    "    # print(index)\n",
    "    # 2.2 根据这个索引位置, 当做起始位置, 来截取后续的所有字符串内容\n",
    "    extension = file_name[index + 1:]\n",
    "    print(extension)\n",
    "\n",
    "    # 3. 查看一下, 是否存在同名的目录\n",
    "\n",
    "    # 4. 如果不存在这样的目录 -> 直接创建一个这样名称的目录\n",
    "    if not os.path.exists(extension):\n",
    "        os.mkdir(extension)\n",
    "\n",
    "    shutil.move(file_name, extension)\n",
    "\n",
    "    # 5, 目录存在 -> 移动过去\n",
    "\n",
    "    # 创建 移动 移动"
   ],
   "metadata": {
    "collapsed": false
   },
   "id": "1ab5d4a2f8f80da"
  },
  {
   "cell_type": "code",
   "outputs": [],
   "source": [
    "# 0, 获取所有的文件名称列表\n",
    "import os\n",
    "import shutil\n",
    "\n",
    "path = \"files2\"\n",
    "\n",
    "if not os.path.exists(path):\n",
    "    exit()\n",
    "\n",
    "os.chdir(path)\n",
    "file_list = os.listdir(\"./\")\n",
    "# print(file_list)\n",
    "\n",
    "# 1. 遍历所有的文件(名称)\n",
    "for file_name in file_list:\n",
    "    # print(file_name)\n",
    "    # 2. 分解文件的后缀名\n",
    "    # 2.1 获取最后一个.的索引位置 xx.oo.txt\n",
    "    index = file_name.rfind(\".\")\n",
    "    if index == -1:\n",
    "        continue\n",
    "    # print(index)\n",
    "    # 2.2 根据这个索引位置, 当做起始位置, 来截取后续的所有字符串内容\n",
    "    extension = file_name[index + 1:]\n",
    "    print(extension)\n",
    "\n",
    "    # 3. 查看一下, 是否存在同名的目录\n",
    "\n",
    "    # 4. 如果不存在这样的目录 -> 直接创建一个这样名称的目录\n",
    "    if not os.path.exists(extension):\n",
    "        os.mkdir(extension)\n",
    "\n",
    "    shutil.move(file_name, extension)\n",
    "\n",
    "    # 5, 目录存在 -> 移动过去\n",
    "\n",
    "    # 创建 移动 移动"
   ],
   "metadata": {
    "collapsed": false
   },
   "id": "748bd36be5c8b421"
  },
  {
   "cell_type": "code",
   "outputs": [],
   "source": [
    "import os\n",
    "# file_list = os.listdir(\"files\")\n",
    "# print(file_list)\n",
    "\n",
    "# 通过给定的文件夹, 列举出这个文件夹当中, 所有的文件,以及文件夹, 子文件夹当中的所有文件\n",
    "def listFilesToTxt(dir, file):\n",
    "    # 1. 列举出, 当前给定的文件夹, 下的所有子文件夹, 以及子文件\n",
    "    file_list = os.listdir(dir)\n",
    "    # print(file_list)\n",
    "    # 2. 针对于, 列举的列表, 进行遍历\n",
    "    for file_name in file_list:\n",
    "        new_fileName = dir + \"/\" + file_name\n",
    "        # 判定, 是否是目录, listFiles\n",
    "        if os.path.isdir(new_fileName):\n",
    "            # print(new_fileName)\n",
    "            file.write(new_fileName + \"\\n\")\n",
    "            listFilesToTxt(new_fileName, file)\n",
    "        else:\n",
    "             # 打印下, 文件名称\n",
    "            # print(\"\\t\" + file_name)\n",
    "            file.write(\"\\t\" + file_name + \"\\n\")\n",
    "    # print(\"\")\n",
    "    file.write(\"\\n\")\n",
    "\n",
    "f = open(\"list.txt\", \"a\")\n",
    "listFilesToTxt(\"files\", f)"
   ],
   "metadata": {
    "collapsed": false
   },
   "id": "76051fc3a5b872fe"
  }
 ],
 "metadata": {
  "kernelspec": {
   "display_name": "Python 3",
   "language": "python",
   "name": "python3"
  },
  "language_info": {
   "codemirror_mode": {
    "name": "ipython",
    "version": 2
   },
   "file_extension": ".py",
   "mimetype": "text/x-python",
   "name": "python",
   "nbconvert_exporter": "python",
   "pygments_lexer": "ipython2",
   "version": "2.7.6"
  }
 },
 "nbformat": 4,
 "nbformat_minor": 5
}
